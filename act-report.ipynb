{
 "cells": [
  {
   "cell_type": "markdown",
   "metadata": {},
   "source": [
    "## WeRateDogs Twitter Dataset Wrangling External Report\n",
    "\n",
    "Have you ever looked through Twitter and tried to find some interesting dog pictures to make you mood better? Or have you thought of whether different stages of dogs like doggo and floofer may have different ratings, like one is more cute than others? Or have you imagined that computers can help to identify different types of dogs? Luckily, these questions will be answered in this research.\n",
    "\n",
    "This report mainly discusses the key insight and visualization from the cleaned WeRateDogs Twitter dataset by some analytic methods. The result is from two datasets: 1) `df`: the cleaned dataset named `twitter-archive-master.csv`; 2) `df2`: the original dataset of image prediction named `image-predictions.tsv`.\n",
    "\n",
    "In this analysis process, three questions are illustrated:\n",
    "\n",
    "**Question 1: What is the distribution of rating?**\n",
    "![title1](img1.png)\n",
    "\n",
    "The histogram is used to answer this question. The rating has a unimodal and left-skewed distribution. most of the rating is distributed in 10-12, and there is a steep gap between the score 9 and 10. The proportion of rating over 13 and below 8 is small.\n",
    "\n",
    "**Question 2: What is the relationship between stage and rating?**\n",
    "![title2](img2.png)\n",
    "![title3](img3.png)\n",
    "\n",
    "The violin plot is used to depict the relationship between type, the categorical variable, and rating, the numeric variable. Also, the adapted bar chart is used to depict the relationship between type and average rating. From the two plots, Without considering doggo,poppo, doggo,floofer, and np.nan stage, the pupper has a lower median of rating than other four stages. The pupper and doggo,pupper has a wider range of rating. The mode of rating of puppo is higher than others. The average rating of these five types are nearly the same, with all of them over 10.\n",
    "\n",
    "**Question 3: How can the confidence predict whether the prediction is a breed of dog?**\n",
    "![title4](img4.png)\n",
    "![title5](img5.png)\n",
    "![title6](img6.png)\n",
    "\n",
    "The logistic regression model is used to discover the relationship between the confidence of different algorithms and the result of whether the prediction is a breed of dog. Dummy variables are used to help with the model building. The result indicates that holding other variables constant, when the confidence level increase 1 unit, the true prediction is 2.75 times (np.exp(1.0099)), 11.53 times (np.exp(2.4448)), and 6.50 times (np.exp(1.8721)) as likely respectively."
   ]
  }
 ],
 "metadata": {
  "kernelspec": {
   "display_name": "Python 3",
   "language": "python",
   "name": "python3"
  },
  "language_info": {
   "codemirror_mode": {
    "name": "ipython",
    "version": 3
   },
   "file_extension": ".py",
   "mimetype": "text/x-python",
   "name": "python",
   "nbconvert_exporter": "python",
   "pygments_lexer": "ipython3",
   "version": "3.7.2"
  }
 },
 "nbformat": 4,
 "nbformat_minor": 2
}
