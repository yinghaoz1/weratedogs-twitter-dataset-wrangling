{
 "cells": [
  {
   "cell_type": "markdown",
   "metadata": {},
   "source": [
    "# WeRateDogs Twitter Dataset Wrangling Internal Document\n",
    "\n",
    "This document is a description of the wrangling process of the WeRateDogs Twitter Dataset. This project includes three datasets: 1)  `df`: The WeRateDogs Twitter archive dataset named `twitter-archive-enchanced.csv`; 2) `df2`: The tweet image prediction from the neural network named `image-predictions.csv`; 3) `df3`: The additional dataset from the Twitter API including the retweet and favorite count named `tweet-json.txt`.\n",
    "\n",
    "Overall, nine quality issues and two tidiness issues are identified from the three datasets. The assessment uses both visual and programmatic methods such as `df.head()`, `df.tail()`, `df.sample()`, `df.info()`, `df.describe()`, etc. Those issues are:\n",
    "\n",
    "**Quality**:\n",
    "- `df` : All of the replies and retweets are redundant because the research only focuses on the original tweet.\n",
    "- `df`: Some scores in `rating_numerator` and `rating_denominator` are invalid. All of the score in `rating_denominator` should be 10, and the score in `rating_numerator` should not exceed 15.\n",
    "- `df`: `source` has some redundant text. The html syntax inside the text should be removed. \n",
    "- `df`: The name in the column `name` starting with a lowercase letter is invalid. It is weird to call the dog 'his' or 'a'.\n",
    "- `df`: Some records in `expanded_urls` are missing. These records are replies to other tweets and they should be removed. \n",
    "- `df`: The columns of `in_reply_to_status_id`, `in_reply_to_user_id`, `retweeted_status_id`, `retweeted_status_user_id`, `retweeted_status_timestamp`, and `rating_denominator` are redundant. When all replies and retweets are removed, the columns of `in_reply_to_status_id`, `in_reply_to_user_id`, `retweeted_status_id`, `retweeted_status_user_id`, and `retweeted_status_timestamp` only contain np.nan values and it is unnecessary to keep them. And all scores in `rating_denominator` are known to be 10 so it is also unnecessary to keep it.\n",
    "- `df`: The word 'numerator' in the column name of `rating_numerator` is unecessary and it should be the float type. When the `rating_denominator` is removed, it is better to call the column `rating` rather than `rating_numerator`. Also, it is reasonable to rate .5 on the rating.\n",
    "- `df`: The column of `timestamp` should not be the string type. It should be the datetime or timestamp object.\n",
    "- `df3`: Some favorites and retweets are invalid. The favorite and retweet counts are highly correlated, so it is unreasonable for a data point to have a high favorite but low retweet and vice versa.\n",
    "\n",
    "**Tidiness**:\n",
    "- `df`: The structure of doggo, floofer, pupper, and puppo is messy. It should be restructured if we want to analyze the dog type. \n",
    "- `df3`: `df1` and `df3` should not be seperated because they are one observation unit.\n",
    "\n",
    "The cleaning process mainly uses `pandas` function. The `df.drop()` function and other drop methods are most frequently used to drop the redundant rows and columns. Another frequently used function is `series.value_counts()` which counts and sorts the number of each value in order to find the invalid observation. The scatterplot is used for finding the relationship between favorite and retweet counts in order to find invalid records. Also, the function of `pd.merge()` is used to change and combine the structure of table. The final cleaned dataset is stored as `twitter-archive-master.csv` which combines both `df` and `df3`. There are no major problems found in `df2`."
   ]
  }
 ],
 "metadata": {
  "kernelspec": {
   "display_name": "Python 3",
   "language": "python",
   "name": "python3"
  },
  "language_info": {
   "codemirror_mode": {
    "name": "ipython",
    "version": 3
   },
   "file_extension": ".py",
   "mimetype": "text/x-python",
   "name": "python",
   "nbconvert_exporter": "python",
   "pygments_lexer": "ipython3",
   "version": "3.7.2"
  }
 },
 "nbformat": 4,
 "nbformat_minor": 2
}
